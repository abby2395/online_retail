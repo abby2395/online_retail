{
 "cells": [
  {
   "cell_type": "markdown",
   "id": "0d700211-377c-48cc-ad02-a3012cfec8f8",
   "metadata": {},
   "source": [
    "# EDA (Exploratory Data Analysis)"
   ]
  },
  {
   "cell_type": "markdown",
   "id": "2084f237-142f-4696-8497-90958f968eae",
   "metadata": {},
   "source": [
    "- Loading, cleaning, manipulating, and visualising the data for performing machine learning tools to solve problems."
   ]
  },
  {
   "cell_type": "markdown",
   "id": "16382f8e-c0cd-4cb8-a305-c3599cd11ae2",
   "metadata": {},
   "source": [
    "## Let's explore the features or columns of the data"
   ]
  },
  {
   "cell_type": "markdown",
   "id": "fc56998e-2dfa-4822-9966-37fcac245e87",
   "metadata": {},
   "source": [
    "- **InvoiceNo:** Invoice number of the transaction\n",
    "- **StockCode:** Unique code of the product\n",
    "- **Description:** Product Description\n",
    "- **Quantity:** Product quantity in the transaction\n",
    "- **InvoiceDate:** Date and time of the transaction\n",
    "- **UnitPrice:** Product unit price\n",
    "- **CustomerID:** Unique ID of the customer\n",
    "- **Country:** Country where the transaction occurred"
   ]
  },
  {
   "cell_type": "markdown",
   "id": "7d0514f6-92cf-48f5-bebf-880dd8181f4c",
   "metadata": {},
   "source": [
    "## Tasks to perform"
   ]
  },
  {
   "cell_type": "markdown",
   "id": "51cc6f5b-3214-4470-9e88-17a8539031ec",
   "metadata": {},
   "source": [
    "- Loading the data.\n",
    "- Check for missing values, redundacy, or unnecessary columns.\n",
    "- Explore the statistics of the dataset, including measures of central tendency and dispersion.\n",
    "- perform data visualisation to gain insghts of the data. Generate appropriate plots, such as plots, histograms, bar, and scattering. \n",
    "- Analyse the sales trends over time. **Identify the busiest months, days of the weeks in terms of sales.**\n",
    "- **Explore the top-selling products and countries based on the quantity sold.**\n",
    "- **Analyse any outliers or anomalies in the dataset and explain how they can affect the data.**\n",
    "- Draw conclusions and summarise your findings from the EDA. "
   ]
  },
  {
   "cell_type": "code",
   "execution_count": 1,
   "id": "39b123df-08d1-4fdf-8503-37b7974ff9cc",
   "metadata": {},
   "outputs": [],
   "source": [
    "#Importing all the necessary librabries\n",
    "import numpy as np\n",
    "import pandas as pd\n",
    "import seaborn as sns\n",
    "import matplotlib.pyplot as plt\n",
    "%matplotlib inline"
   ]
  },
  {
   "cell_type": "markdown",
   "id": "6af414fa-bb8b-4f94-bf21-797e0b16f695",
   "metadata": {},
   "source": [
    "## Loading the data"
   ]
  },
  {
   "cell_type": "code",
   "execution_count": 2,
   "id": "7fd3af47-3faa-4ae9-8398-1bace6c1ad15",
   "metadata": {},
   "outputs": [
    {
     "data": {
      "text/html": [
       "<div>\n",
       "<style scoped>\n",
       "    .dataframe tbody tr th:only-of-type {\n",
       "        vertical-align: middle;\n",
       "    }\n",
       "\n",
       "    .dataframe tbody tr th {\n",
       "        vertical-align: top;\n",
       "    }\n",
       "\n",
       "    .dataframe thead th {\n",
       "        text-align: right;\n",
       "    }\n",
       "</style>\n",
       "<table border=\"1\" class=\"dataframe\">\n",
       "  <thead>\n",
       "    <tr style=\"text-align: right;\">\n",
       "      <th></th>\n",
       "      <th>InvoiceNo</th>\n",
       "      <th>StockCode</th>\n",
       "      <th>Description</th>\n",
       "      <th>Quantity</th>\n",
       "      <th>InvoiceDate</th>\n",
       "      <th>UnitPrice</th>\n",
       "      <th>CustomerID</th>\n",
       "      <th>Country</th>\n",
       "    </tr>\n",
       "  </thead>\n",
       "  <tbody>\n",
       "    <tr>\n",
       "      <th>0</th>\n",
       "      <td>536365</td>\n",
       "      <td>85123A</td>\n",
       "      <td>WHITE HANGING HEART T-LIGHT HOLDER</td>\n",
       "      <td>6</td>\n",
       "      <td>2010-12-01 08:26:00</td>\n",
       "      <td>2.55</td>\n",
       "      <td>17850.0</td>\n",
       "      <td>United Kingdom</td>\n",
       "    </tr>\n",
       "    <tr>\n",
       "      <th>1</th>\n",
       "      <td>536365</td>\n",
       "      <td>71053</td>\n",
       "      <td>WHITE METAL LANTERN</td>\n",
       "      <td>6</td>\n",
       "      <td>2010-12-01 08:26:00</td>\n",
       "      <td>3.39</td>\n",
       "      <td>17850.0</td>\n",
       "      <td>United Kingdom</td>\n",
       "    </tr>\n",
       "    <tr>\n",
       "      <th>2</th>\n",
       "      <td>536365</td>\n",
       "      <td>84406B</td>\n",
       "      <td>CREAM CUPID HEARTS COAT HANGER</td>\n",
       "      <td>8</td>\n",
       "      <td>2010-12-01 08:26:00</td>\n",
       "      <td>2.75</td>\n",
       "      <td>17850.0</td>\n",
       "      <td>United Kingdom</td>\n",
       "    </tr>\n",
       "    <tr>\n",
       "      <th>3</th>\n",
       "      <td>536365</td>\n",
       "      <td>84029G</td>\n",
       "      <td>KNITTED UNION FLAG HOT WATER BOTTLE</td>\n",
       "      <td>6</td>\n",
       "      <td>2010-12-01 08:26:00</td>\n",
       "      <td>3.39</td>\n",
       "      <td>17850.0</td>\n",
       "      <td>United Kingdom</td>\n",
       "    </tr>\n",
       "    <tr>\n",
       "      <th>4</th>\n",
       "      <td>536365</td>\n",
       "      <td>84029E</td>\n",
       "      <td>RED WOOLLY HOTTIE WHITE HEART.</td>\n",
       "      <td>6</td>\n",
       "      <td>2010-12-01 08:26:00</td>\n",
       "      <td>3.39</td>\n",
       "      <td>17850.0</td>\n",
       "      <td>United Kingdom</td>\n",
       "    </tr>\n",
       "  </tbody>\n",
       "</table>\n",
       "</div>"
      ],
      "text/plain": [
       "  InvoiceNo StockCode                          Description  Quantity  \\\n",
       "0    536365    85123A   WHITE HANGING HEART T-LIGHT HOLDER         6   \n",
       "1    536365     71053                  WHITE METAL LANTERN         6   \n",
       "2    536365    84406B       CREAM CUPID HEARTS COAT HANGER         8   \n",
       "3    536365    84029G  KNITTED UNION FLAG HOT WATER BOTTLE         6   \n",
       "4    536365    84029E       RED WOOLLY HOTTIE WHITE HEART.         6   \n",
       "\n",
       "          InvoiceDate  UnitPrice  CustomerID         Country  \n",
       "0 2010-12-01 08:26:00       2.55     17850.0  United Kingdom  \n",
       "1 2010-12-01 08:26:00       3.39     17850.0  United Kingdom  \n",
       "2 2010-12-01 08:26:00       2.75     17850.0  United Kingdom  \n",
       "3 2010-12-01 08:26:00       3.39     17850.0  United Kingdom  \n",
       "4 2010-12-01 08:26:00       3.39     17850.0  United Kingdom  "
      ]
     },
     "execution_count": 2,
     "metadata": {},
     "output_type": "execute_result"
    }
   ],
   "source": [
    "data_retail = pd.read_excel(\"Online Retail.xlsx\")\n",
    "\n",
    "#View the first five enteries of the data\n",
    "data_retail.head()"
   ]
  },
  {
   "cell_type": "code",
   "execution_count": 3,
   "id": "b07dbf3b-e4b4-4537-a859-435ad1e13949",
   "metadata": {},
   "outputs": [
    {
     "data": {
      "text/html": [
       "<div>\n",
       "<style scoped>\n",
       "    .dataframe tbody tr th:only-of-type {\n",
       "        vertical-align: middle;\n",
       "    }\n",
       "\n",
       "    .dataframe tbody tr th {\n",
       "        vertical-align: top;\n",
       "    }\n",
       "\n",
       "    .dataframe thead th {\n",
       "        text-align: right;\n",
       "    }\n",
       "</style>\n",
       "<table border=\"1\" class=\"dataframe\">\n",
       "  <thead>\n",
       "    <tr style=\"text-align: right;\">\n",
       "      <th></th>\n",
       "      <th>InvoiceNo</th>\n",
       "      <th>StockCode</th>\n",
       "      <th>Description</th>\n",
       "      <th>Quantity</th>\n",
       "      <th>InvoiceDate</th>\n",
       "      <th>UnitPrice</th>\n",
       "      <th>CustomerID</th>\n",
       "      <th>Country</th>\n",
       "    </tr>\n",
       "  </thead>\n",
       "  <tbody>\n",
       "    <tr>\n",
       "      <th>541904</th>\n",
       "      <td>581587</td>\n",
       "      <td>22613</td>\n",
       "      <td>PACK OF 20 SPACEBOY NAPKINS</td>\n",
       "      <td>12</td>\n",
       "      <td>2011-12-09 12:50:00</td>\n",
       "      <td>0.85</td>\n",
       "      <td>12680.0</td>\n",
       "      <td>France</td>\n",
       "    </tr>\n",
       "    <tr>\n",
       "      <th>541905</th>\n",
       "      <td>581587</td>\n",
       "      <td>22899</td>\n",
       "      <td>CHILDREN'S APRON DOLLY GIRL</td>\n",
       "      <td>6</td>\n",
       "      <td>2011-12-09 12:50:00</td>\n",
       "      <td>2.10</td>\n",
       "      <td>12680.0</td>\n",
       "      <td>France</td>\n",
       "    </tr>\n",
       "    <tr>\n",
       "      <th>541906</th>\n",
       "      <td>581587</td>\n",
       "      <td>23254</td>\n",
       "      <td>CHILDRENS CUTLERY DOLLY GIRL</td>\n",
       "      <td>4</td>\n",
       "      <td>2011-12-09 12:50:00</td>\n",
       "      <td>4.15</td>\n",
       "      <td>12680.0</td>\n",
       "      <td>France</td>\n",
       "    </tr>\n",
       "    <tr>\n",
       "      <th>541907</th>\n",
       "      <td>581587</td>\n",
       "      <td>23255</td>\n",
       "      <td>CHILDRENS CUTLERY CIRCUS PARADE</td>\n",
       "      <td>4</td>\n",
       "      <td>2011-12-09 12:50:00</td>\n",
       "      <td>4.15</td>\n",
       "      <td>12680.0</td>\n",
       "      <td>France</td>\n",
       "    </tr>\n",
       "    <tr>\n",
       "      <th>541908</th>\n",
       "      <td>581587</td>\n",
       "      <td>22138</td>\n",
       "      <td>BAKING SET 9 PIECE RETROSPOT</td>\n",
       "      <td>3</td>\n",
       "      <td>2011-12-09 12:50:00</td>\n",
       "      <td>4.95</td>\n",
       "      <td>12680.0</td>\n",
       "      <td>France</td>\n",
       "    </tr>\n",
       "  </tbody>\n",
       "</table>\n",
       "</div>"
      ],
      "text/plain": [
       "       InvoiceNo StockCode                      Description  Quantity  \\\n",
       "541904    581587     22613      PACK OF 20 SPACEBOY NAPKINS        12   \n",
       "541905    581587     22899     CHILDREN'S APRON DOLLY GIRL          6   \n",
       "541906    581587     23254    CHILDRENS CUTLERY DOLLY GIRL          4   \n",
       "541907    581587     23255  CHILDRENS CUTLERY CIRCUS PARADE         4   \n",
       "541908    581587     22138    BAKING SET 9 PIECE RETROSPOT          3   \n",
       "\n",
       "               InvoiceDate  UnitPrice  CustomerID Country  \n",
       "541904 2011-12-09 12:50:00       0.85     12680.0  France  \n",
       "541905 2011-12-09 12:50:00       2.10     12680.0  France  \n",
       "541906 2011-12-09 12:50:00       4.15     12680.0  France  \n",
       "541907 2011-12-09 12:50:00       4.15     12680.0  France  \n",
       "541908 2011-12-09 12:50:00       4.95     12680.0  France  "
      ]
     },
     "execution_count": 3,
     "metadata": {},
     "output_type": "execute_result"
    }
   ],
   "source": [
    "#View the last five enteries of the data\n",
    "data_retail.tail()"
   ]
  },
  {
   "cell_type": "code",
   "execution_count": 4,
   "id": "a1b38993-aad7-4a05-8b6a-97d56cd18575",
   "metadata": {},
   "outputs": [
    {
     "data": {
      "text/plain": [
       "InvoiceNo              object\n",
       "StockCode              object\n",
       "Description            object\n",
       "Quantity                int64\n",
       "InvoiceDate    datetime64[ns]\n",
       "UnitPrice             float64\n",
       "CustomerID            float64\n",
       "Country                object\n",
       "dtype: object"
      ]
     },
     "execution_count": 4,
     "metadata": {},
     "output_type": "execute_result"
    }
   ],
   "source": [
    "#Checking the data types\n",
    "data_retail.dtypes"
   ]
  },
  {
   "cell_type": "markdown",
   "id": "3aa0bcb2-3909-4007-9ecd-f1d67cbd450f",
   "metadata": {},
   "source": [
    "## Checking for any missing values"
   ]
  },
  {
   "cell_type": "code",
   "execution_count": 5,
   "id": "4d42b442-d61b-44df-be2b-c26f15697f07",
   "metadata": {},
   "outputs": [
    {
     "data": {
      "text/plain": [
       "InvoiceNo           0\n",
       "StockCode           0\n",
       "Description      1454\n",
       "Quantity            0\n",
       "InvoiceDate         0\n",
       "UnitPrice           0\n",
       "CustomerID     135080\n",
       "Country             0\n",
       "dtype: int64"
      ]
     },
     "execution_count": 5,
     "metadata": {},
     "output_type": "execute_result"
    }
   ],
   "source": [
    "data_retail.isnull().sum()"
   ]
  },
  {
   "cell_type": "markdown",
   "id": "b0e326f7-2bdb-4bcc-a482-cd5da41cf29d",
   "metadata": {},
   "source": [
    "**So, 1454 and 135080 are the missing values in Description and Customer ID respectively.**"
   ]
  },
  {
   "cell_type": "markdown",
   "id": "4ffb9994-0168-4538-baef-8aea97bfe783",
   "metadata": {},
   "source": [
    "## Dropping the missing values"
   ]
  },
  {
   "cell_type": "code",
   "execution_count": 6,
   "id": "760100ea-c01d-42d7-8d69-7c215d07e9d7",
   "metadata": {},
   "outputs": [],
   "source": [
    "data_retail = data_retail.dropna()"
   ]
  },
  {
   "cell_type": "code",
   "execution_count": 7,
   "id": "7e77a91c-11bd-4e81-a0f0-f9555acfc64e",
   "metadata": {},
   "outputs": [
    {
     "data": {
      "text/plain": [
       "InvoiceNo      0\n",
       "StockCode      0\n",
       "Description    0\n",
       "Quantity       0\n",
       "InvoiceDate    0\n",
       "UnitPrice      0\n",
       "CustomerID     0\n",
       "Country        0\n",
       "dtype: int64"
      ]
     },
     "execution_count": 7,
     "metadata": {},
     "output_type": "execute_result"
    }
   ],
   "source": [
    "#Checking again if there's any missing value in the data\n",
    "data_retail.isnull().sum()"
   ]
  },
  {
   "cell_type": "markdown",
   "id": "f72b9dd0-fe7d-4bf9-849e-6c00d61c14a6",
   "metadata": {},
   "source": [
    "## Removing redundancy"
   ]
  },
  {
   "cell_type": "code",
   "execution_count": 8,
   "id": "cc0c48ab-6508-4d98-81bb-5ec435b0e073",
   "metadata": {},
   "outputs": [],
   "source": [
    "remove = [\"InvoiceNo\", \"StockCode\"]\n",
    "data_retail_updated = data_retail.drop(columns = remove)"
   ]
  },
  {
   "cell_type": "code",
   "execution_count": 9,
   "id": "888a734d-1d9a-4e6a-afc3-9ab88aed8830",
   "metadata": {},
   "outputs": [
    {
     "data": {
      "text/html": [
       "<div>\n",
       "<style scoped>\n",
       "    .dataframe tbody tr th:only-of-type {\n",
       "        vertical-align: middle;\n",
       "    }\n",
       "\n",
       "    .dataframe tbody tr th {\n",
       "        vertical-align: top;\n",
       "    }\n",
       "\n",
       "    .dataframe thead th {\n",
       "        text-align: right;\n",
       "    }\n",
       "</style>\n",
       "<table border=\"1\" class=\"dataframe\">\n",
       "  <thead>\n",
       "    <tr style=\"text-align: right;\">\n",
       "      <th></th>\n",
       "      <th>Description</th>\n",
       "      <th>Quantity</th>\n",
       "      <th>InvoiceDate</th>\n",
       "      <th>UnitPrice</th>\n",
       "      <th>CustomerID</th>\n",
       "      <th>Country</th>\n",
       "    </tr>\n",
       "  </thead>\n",
       "  <tbody>\n",
       "    <tr>\n",
       "      <th>0</th>\n",
       "      <td>WHITE HANGING HEART T-LIGHT HOLDER</td>\n",
       "      <td>6</td>\n",
       "      <td>2010-12-01 08:26:00</td>\n",
       "      <td>2.55</td>\n",
       "      <td>17850.0</td>\n",
       "      <td>United Kingdom</td>\n",
       "    </tr>\n",
       "    <tr>\n",
       "      <th>1</th>\n",
       "      <td>WHITE METAL LANTERN</td>\n",
       "      <td>6</td>\n",
       "      <td>2010-12-01 08:26:00</td>\n",
       "      <td>3.39</td>\n",
       "      <td>17850.0</td>\n",
       "      <td>United Kingdom</td>\n",
       "    </tr>\n",
       "    <tr>\n",
       "      <th>2</th>\n",
       "      <td>CREAM CUPID HEARTS COAT HANGER</td>\n",
       "      <td>8</td>\n",
       "      <td>2010-12-01 08:26:00</td>\n",
       "      <td>2.75</td>\n",
       "      <td>17850.0</td>\n",
       "      <td>United Kingdom</td>\n",
       "    </tr>\n",
       "    <tr>\n",
       "      <th>3</th>\n",
       "      <td>KNITTED UNION FLAG HOT WATER BOTTLE</td>\n",
       "      <td>6</td>\n",
       "      <td>2010-12-01 08:26:00</td>\n",
       "      <td>3.39</td>\n",
       "      <td>17850.0</td>\n",
       "      <td>United Kingdom</td>\n",
       "    </tr>\n",
       "    <tr>\n",
       "      <th>4</th>\n",
       "      <td>RED WOOLLY HOTTIE WHITE HEART.</td>\n",
       "      <td>6</td>\n",
       "      <td>2010-12-01 08:26:00</td>\n",
       "      <td>3.39</td>\n",
       "      <td>17850.0</td>\n",
       "      <td>United Kingdom</td>\n",
       "    </tr>\n",
       "  </tbody>\n",
       "</table>\n",
       "</div>"
      ],
      "text/plain": [
       "                           Description  Quantity         InvoiceDate  \\\n",
       "0   WHITE HANGING HEART T-LIGHT HOLDER         6 2010-12-01 08:26:00   \n",
       "1                  WHITE METAL LANTERN         6 2010-12-01 08:26:00   \n",
       "2       CREAM CUPID HEARTS COAT HANGER         8 2010-12-01 08:26:00   \n",
       "3  KNITTED UNION FLAG HOT WATER BOTTLE         6 2010-12-01 08:26:00   \n",
       "4       RED WOOLLY HOTTIE WHITE HEART.         6 2010-12-01 08:26:00   \n",
       "\n",
       "   UnitPrice  CustomerID         Country  \n",
       "0       2.55     17850.0  United Kingdom  \n",
       "1       3.39     17850.0  United Kingdom  \n",
       "2       2.75     17850.0  United Kingdom  \n",
       "3       3.39     17850.0  United Kingdom  \n",
       "4       3.39     17850.0  United Kingdom  "
      ]
     },
     "execution_count": 9,
     "metadata": {},
     "output_type": "execute_result"
    }
   ],
   "source": [
    "#Checkng the first five enteries of the new data\n",
    "data_retail_updated.head(5)"
   ]
  },
  {
   "cell_type": "markdown",
   "id": "09cae5cd-ecfa-49eb-9cde-0eec1b4b675c",
   "metadata": {},
   "source": [
    "## Dropping the duplicate rows"
   ]
  },
  {
   "cell_type": "code",
   "execution_count": 10,
   "id": "becbe331-08db-435a-bcd9-3b54ef31ac74",
   "metadata": {},
   "outputs": [
    {
     "data": {
      "text/plain": [
       "(401528, 6)"
      ]
     },
     "execution_count": 10,
     "metadata": {},
     "output_type": "execute_result"
    }
   ],
   "source": [
    "data_retail_updated = data_retail_updated.drop_duplicates()\n",
    "data_retail_updated.shape"
   ]
  },
  {
   "cell_type": "markdown",
   "id": "830dc220-9758-4253-9e4d-dbaf31b0f015",
   "metadata": {},
   "source": [
    "## Total Sell Amount"
   ]
  },
  {
   "cell_type": "markdown",
   "id": "8f2f1142-2c64-46ac-9995-2522369d5b6c",
   "metadata": {},
   "source": [
    "Creating a new column that indicates the total sell amount by multiplying Quantity and UnitPrice."
   ]
  },
  {
   "cell_type": "code",
   "execution_count": 11,
   "id": "1b349dcf-1760-46b7-b641-e550c7c61a1d",
   "metadata": {},
   "outputs": [
    {
     "data": {
      "text/html": [
       "<div>\n",
       "<style scoped>\n",
       "    .dataframe tbody tr th:only-of-type {\n",
       "        vertical-align: middle;\n",
       "    }\n",
       "\n",
       "    .dataframe tbody tr th {\n",
       "        vertical-align: top;\n",
       "    }\n",
       "\n",
       "    .dataframe thead th {\n",
       "        text-align: right;\n",
       "    }\n",
       "</style>\n",
       "<table border=\"1\" class=\"dataframe\">\n",
       "  <thead>\n",
       "    <tr style=\"text-align: right;\">\n",
       "      <th></th>\n",
       "      <th>Description</th>\n",
       "      <th>Quantity</th>\n",
       "      <th>InvoiceDate</th>\n",
       "      <th>UnitPrice</th>\n",
       "      <th>CustomerID</th>\n",
       "      <th>Country</th>\n",
       "      <th>Totalsell</th>\n",
       "    </tr>\n",
       "  </thead>\n",
       "  <tbody>\n",
       "    <tr>\n",
       "      <th>0</th>\n",
       "      <td>WHITE HANGING HEART T-LIGHT HOLDER</td>\n",
       "      <td>6</td>\n",
       "      <td>2010-12-01 08:26:00</td>\n",
       "      <td>2.55</td>\n",
       "      <td>17850.0</td>\n",
       "      <td>United Kingdom</td>\n",
       "      <td>15.30</td>\n",
       "    </tr>\n",
       "    <tr>\n",
       "      <th>1</th>\n",
       "      <td>WHITE METAL LANTERN</td>\n",
       "      <td>6</td>\n",
       "      <td>2010-12-01 08:26:00</td>\n",
       "      <td>3.39</td>\n",
       "      <td>17850.0</td>\n",
       "      <td>United Kingdom</td>\n",
       "      <td>20.34</td>\n",
       "    </tr>\n",
       "    <tr>\n",
       "      <th>2</th>\n",
       "      <td>CREAM CUPID HEARTS COAT HANGER</td>\n",
       "      <td>8</td>\n",
       "      <td>2010-12-01 08:26:00</td>\n",
       "      <td>2.75</td>\n",
       "      <td>17850.0</td>\n",
       "      <td>United Kingdom</td>\n",
       "      <td>22.00</td>\n",
       "    </tr>\n",
       "    <tr>\n",
       "      <th>3</th>\n",
       "      <td>KNITTED UNION FLAG HOT WATER BOTTLE</td>\n",
       "      <td>6</td>\n",
       "      <td>2010-12-01 08:26:00</td>\n",
       "      <td>3.39</td>\n",
       "      <td>17850.0</td>\n",
       "      <td>United Kingdom</td>\n",
       "      <td>20.34</td>\n",
       "    </tr>\n",
       "    <tr>\n",
       "      <th>4</th>\n",
       "      <td>RED WOOLLY HOTTIE WHITE HEART.</td>\n",
       "      <td>6</td>\n",
       "      <td>2010-12-01 08:26:00</td>\n",
       "      <td>3.39</td>\n",
       "      <td>17850.0</td>\n",
       "      <td>United Kingdom</td>\n",
       "      <td>20.34</td>\n",
       "    </tr>\n",
       "  </tbody>\n",
       "</table>\n",
       "</div>"
      ],
      "text/plain": [
       "                           Description  Quantity         InvoiceDate  \\\n",
       "0   WHITE HANGING HEART T-LIGHT HOLDER         6 2010-12-01 08:26:00   \n",
       "1                  WHITE METAL LANTERN         6 2010-12-01 08:26:00   \n",
       "2       CREAM CUPID HEARTS COAT HANGER         8 2010-12-01 08:26:00   \n",
       "3  KNITTED UNION FLAG HOT WATER BOTTLE         6 2010-12-01 08:26:00   \n",
       "4       RED WOOLLY HOTTIE WHITE HEART.         6 2010-12-01 08:26:00   \n",
       "\n",
       "   UnitPrice  CustomerID         Country  Totalsell  \n",
       "0       2.55     17850.0  United Kingdom      15.30  \n",
       "1       3.39     17850.0  United Kingdom      20.34  \n",
       "2       2.75     17850.0  United Kingdom      22.00  \n",
       "3       3.39     17850.0  United Kingdom      20.34  \n",
       "4       3.39     17850.0  United Kingdom      20.34  "
      ]
     },
     "execution_count": 11,
     "metadata": {},
     "output_type": "execute_result"
    }
   ],
   "source": [
    "data_retail_updated[\"Totalsell\"] = data_retail_updated[\"Quantity\"] * data_retail_updated[\"UnitPrice\"]\n",
    "data_retail_updated.head()"
   ]
  },
  {
   "cell_type": "code",
   "execution_count": null,
   "id": "cef94888-46b1-4561-a23c-e1b8638611db",
   "metadata": {},
   "outputs": [],
   "source": [
    "data_retail_updated.head()"
   ]
  },
  {
   "cell_type": "markdown",
   "id": "9d6ce48b-94d1-455d-81a7-2e7f3acac40c",
   "metadata": {},
   "source": [
    "## Statistical Summary"
   ]
  },
  {
   "cell_type": "code",
   "execution_count": 14,
   "id": "d4ec3aa3-3b48-4a7e-b50d-15fc84380092",
   "metadata": {},
   "outputs": [
    {
     "data": {
      "text/html": [
       "<div>\n",
       "<style scoped>\n",
       "    .dataframe tbody tr th:only-of-type {\n",
       "        vertical-align: middle;\n",
       "    }\n",
       "\n",
       "    .dataframe tbody tr th {\n",
       "        vertical-align: top;\n",
       "    }\n",
       "\n",
       "    .dataframe thead th {\n",
       "        text-align: right;\n",
       "    }\n",
       "</style>\n",
       "<table border=\"1\" class=\"dataframe\">\n",
       "  <thead>\n",
       "    <tr style=\"text-align: right;\">\n",
       "      <th></th>\n",
       "      <th>Quantity</th>\n",
       "      <th>InvoiceDate</th>\n",
       "      <th>UnitPrice</th>\n",
       "      <th>CustomerID</th>\n",
       "      <th>Totalsell</th>\n",
       "    </tr>\n",
       "  </thead>\n",
       "  <tbody>\n",
       "    <tr>\n",
       "      <th>count</th>\n",
       "      <td>401528.000000</td>\n",
       "      <td>401528</td>\n",
       "      <td>401528.000000</td>\n",
       "      <td>401528.000000</td>\n",
       "      <td>401528.000000</td>\n",
       "    </tr>\n",
       "    <tr>\n",
       "      <th>mean</th>\n",
       "      <td>12.183723</td>\n",
       "      <td>2011-07-10 12:12:07.670498816</td>\n",
       "      <td>3.474295</td>\n",
       "      <td>15281.185711</td>\n",
       "      <td>20.613519</td>\n",
       "    </tr>\n",
       "    <tr>\n",
       "      <th>min</th>\n",
       "      <td>-80995.000000</td>\n",
       "      <td>2010-12-01 08:26:00</td>\n",
       "      <td>0.000000</td>\n",
       "      <td>12346.000000</td>\n",
       "      <td>-168469.600000</td>\n",
       "    </tr>\n",
       "    <tr>\n",
       "      <th>25%</th>\n",
       "      <td>2.000000</td>\n",
       "      <td>2011-04-06 15:02:00</td>\n",
       "      <td>1.250000</td>\n",
       "      <td>13939.000000</td>\n",
       "      <td>4.250000</td>\n",
       "    </tr>\n",
       "    <tr>\n",
       "      <th>50%</th>\n",
       "      <td>5.000000</td>\n",
       "      <td>2011-07-29 15:40:00</td>\n",
       "      <td>1.950000</td>\n",
       "      <td>15145.000000</td>\n",
       "      <td>11.700000</td>\n",
       "    </tr>\n",
       "    <tr>\n",
       "      <th>75%</th>\n",
       "      <td>12.000000</td>\n",
       "      <td>2011-10-20 12:03:00</td>\n",
       "      <td>3.750000</td>\n",
       "      <td>16788.000000</td>\n",
       "      <td>19.800000</td>\n",
       "    </tr>\n",
       "    <tr>\n",
       "      <th>max</th>\n",
       "      <td>80995.000000</td>\n",
       "      <td>2011-12-09 12:50:00</td>\n",
       "      <td>38970.000000</td>\n",
       "      <td>18287.000000</td>\n",
       "      <td>168469.600000</td>\n",
       "    </tr>\n",
       "    <tr>\n",
       "      <th>std</th>\n",
       "      <td>250.306467</td>\n",
       "      <td>NaN</td>\n",
       "      <td>69.770623</td>\n",
       "      <td>1714.034187</td>\n",
       "      <td>430.390504</td>\n",
       "    </tr>\n",
       "  </tbody>\n",
       "</table>\n",
       "</div>"
      ],
      "text/plain": [
       "            Quantity                    InvoiceDate      UnitPrice  \\\n",
       "count  401528.000000                         401528  401528.000000   \n",
       "mean       12.183723  2011-07-10 12:12:07.670498816       3.474295   \n",
       "min    -80995.000000            2010-12-01 08:26:00       0.000000   \n",
       "25%         2.000000            2011-04-06 15:02:00       1.250000   \n",
       "50%         5.000000            2011-07-29 15:40:00       1.950000   \n",
       "75%        12.000000            2011-10-20 12:03:00       3.750000   \n",
       "max     80995.000000            2011-12-09 12:50:00   38970.000000   \n",
       "std       250.306467                            NaN      69.770623   \n",
       "\n",
       "          CustomerID      Totalsell  \n",
       "count  401528.000000  401528.000000  \n",
       "mean    15281.185711      20.613519  \n",
       "min     12346.000000 -168469.600000  \n",
       "25%     13939.000000       4.250000  \n",
       "50%     15145.000000      11.700000  \n",
       "75%     16788.000000      19.800000  \n",
       "max     18287.000000  168469.600000  \n",
       "std      1714.034187     430.390504  "
      ]
     },
     "execution_count": 14,
     "metadata": {},
     "output_type": "execute_result"
    }
   ],
   "source": [
    "#Using the describe method for statistical overview \n",
    "data_retail_updated.describe()"
   ]
  },
  {
   "cell_type": "markdown",
   "id": "0af0a532-eaf9-456d-aed4-6de3bf0e25f0",
   "metadata": {},
   "source": [
    "**The negative value indcates that the customers return some products and get the refund.**"
   ]
  },
  {
   "cell_type": "markdown",
   "id": "c5ffa6cd-ae8d-4f56-86e1-2f7dfd19cdfc",
   "metadata": {},
   "source": [
    "## Measuring the central tendency"
   ]
  },
  {
   "cell_type": "code",
   "execution_count": null,
   "id": "c95fcd02-f6e1-46a1-a75f-57107136ffcc",
   "metadata": {},
   "outputs": [],
   "source": [
    "#Calculate the median value. Dropping description and country comuns since they are in string format.\n",
    "updated_df = data_retail_updated.drop(columns = [\"Description\", \"Country\"])\n",
    "updated_df.head()\n",
    "median_df = updated_df.median()\n",
    "median_df\n"
   ]
  },
  {
   "cell_type": "markdown",
   "id": "dbb1fa85-4f0b-4029-970b-c8c88416f1ce",
   "metadata": {},
   "source": [
    "**The mean of the totalsell is higher than the median that means the data is either right skewed (positively skewed) or left-skewed(negatively skewed).**"
   ]
  },
  {
   "cell_type": "code",
   "execution_count": 15,
   "id": "d7e1e9ca-621e-4a75-81e7-528240b09d98",
   "metadata": {},
   "outputs": [
    {
     "data": {
      "text/plain": [
       "Index(['Description', 'Quantity', 'InvoiceDate', 'UnitPrice', 'CustomerID',\n",
       "       'Country', 'Totalsell'],\n",
       "      dtype='object')"
      ]
     },
     "execution_count": 15,
     "metadata": {},
     "output_type": "execute_result"
    }
   ],
   "source": [
    "data_retail_updated.columns"
   ]
  },
  {
   "cell_type": "code",
   "execution_count": 16,
   "id": "f64cdea4-0e17-4604-9b50-1cd4c85447a7",
   "metadata": {},
   "outputs": [
    {
     "data": {
      "text/html": [
       "<div>\n",
       "<style scoped>\n",
       "    .dataframe tbody tr th:only-of-type {\n",
       "        vertical-align: middle;\n",
       "    }\n",
       "\n",
       "    .dataframe tbody tr th {\n",
       "        vertical-align: top;\n",
       "    }\n",
       "\n",
       "    .dataframe thead th {\n",
       "        text-align: right;\n",
       "    }\n",
       "</style>\n",
       "<table border=\"1\" class=\"dataframe\">\n",
       "  <thead>\n",
       "    <tr style=\"text-align: right;\">\n",
       "      <th></th>\n",
       "      <th>Description</th>\n",
       "      <th>Quantity</th>\n",
       "      <th>InvoiceDate</th>\n",
       "      <th>UnitPrice</th>\n",
       "      <th>CustomerID</th>\n",
       "      <th>Country</th>\n",
       "      <th>Totalsell</th>\n",
       "      <th>Monthyear</th>\n",
       "    </tr>\n",
       "  </thead>\n",
       "  <tbody>\n",
       "    <tr>\n",
       "      <th>0</th>\n",
       "      <td>WHITE HANGING HEART T-LIGHT HOLDER</td>\n",
       "      <td>6</td>\n",
       "      <td>2010-12-01 08:26:00</td>\n",
       "      <td>2.55</td>\n",
       "      <td>17850.0</td>\n",
       "      <td>United Kingdom</td>\n",
       "      <td>15.30</td>\n",
       "      <td>2010-12</td>\n",
       "    </tr>\n",
       "    <tr>\n",
       "      <th>1</th>\n",
       "      <td>WHITE METAL LANTERN</td>\n",
       "      <td>6</td>\n",
       "      <td>2010-12-01 08:26:00</td>\n",
       "      <td>3.39</td>\n",
       "      <td>17850.0</td>\n",
       "      <td>United Kingdom</td>\n",
       "      <td>20.34</td>\n",
       "      <td>2010-12</td>\n",
       "    </tr>\n",
       "    <tr>\n",
       "      <th>2</th>\n",
       "      <td>CREAM CUPID HEARTS COAT HANGER</td>\n",
       "      <td>8</td>\n",
       "      <td>2010-12-01 08:26:00</td>\n",
       "      <td>2.75</td>\n",
       "      <td>17850.0</td>\n",
       "      <td>United Kingdom</td>\n",
       "      <td>22.00</td>\n",
       "      <td>2010-12</td>\n",
       "    </tr>\n",
       "    <tr>\n",
       "      <th>3</th>\n",
       "      <td>KNITTED UNION FLAG HOT WATER BOTTLE</td>\n",
       "      <td>6</td>\n",
       "      <td>2010-12-01 08:26:00</td>\n",
       "      <td>3.39</td>\n",
       "      <td>17850.0</td>\n",
       "      <td>United Kingdom</td>\n",
       "      <td>20.34</td>\n",
       "      <td>2010-12</td>\n",
       "    </tr>\n",
       "    <tr>\n",
       "      <th>4</th>\n",
       "      <td>RED WOOLLY HOTTIE WHITE HEART.</td>\n",
       "      <td>6</td>\n",
       "      <td>2010-12-01 08:26:00</td>\n",
       "      <td>3.39</td>\n",
       "      <td>17850.0</td>\n",
       "      <td>United Kingdom</td>\n",
       "      <td>20.34</td>\n",
       "      <td>2010-12</td>\n",
       "    </tr>\n",
       "  </tbody>\n",
       "</table>\n",
       "</div>"
      ],
      "text/plain": [
       "                           Description  Quantity         InvoiceDate  \\\n",
       "0   WHITE HANGING HEART T-LIGHT HOLDER         6 2010-12-01 08:26:00   \n",
       "1                  WHITE METAL LANTERN         6 2010-12-01 08:26:00   \n",
       "2       CREAM CUPID HEARTS COAT HANGER         8 2010-12-01 08:26:00   \n",
       "3  KNITTED UNION FLAG HOT WATER BOTTLE         6 2010-12-01 08:26:00   \n",
       "4       RED WOOLLY HOTTIE WHITE HEART.         6 2010-12-01 08:26:00   \n",
       "\n",
       "   UnitPrice  CustomerID         Country  Totalsell Monthyear  \n",
       "0       2.55     17850.0  United Kingdom      15.30   2010-12  \n",
       "1       3.39     17850.0  United Kingdom      20.34   2010-12  \n",
       "2       2.75     17850.0  United Kingdom      22.00   2010-12  \n",
       "3       3.39     17850.0  United Kingdom      20.34   2010-12  \n",
       "4       3.39     17850.0  United Kingdom      20.34   2010-12  "
      ]
     },
     "execution_count": 16,
     "metadata": {},
     "output_type": "execute_result"
    }
   ],
   "source": [
    "#Let's add another column MonthYear.\n",
    "data_retail_updated[\"Monthyear\"] = data_retail_updated[\"InvoiceDate\"].dt.to_period(\"M\")\n",
    "\n",
    "data_retail_updated.head()"
   ]
  },
  {
   "cell_type": "markdown",
   "id": "3369a01c-1380-4084-9d58-f1f8ed792467",
   "metadata": {},
   "source": [
    "## Plotting a line graph to overview the totalsell over time"
   ]
  },
  {
   "cell_type": "code",
   "execution_count": 17,
   "id": "171aaff9-4f70-48e7-83f6-6bf961a2a088",
   "metadata": {},
   "outputs": [
    {
     "data": {
      "image/png": "[encoded data removed]",
      "text/plain": [
       "<Figure size 1000x600 with 1 Axes>"
      ]
     },
     "metadata": {},
     "output_type": "display_data"
    }
   ],
   "source": [
    "# Groupby the data \n",
    "monthly_year = data_retail_updated.groupby(\"Monthyear\")[\"Totalsell\"].sum().reset_index()\n",
    "\n",
    "#Coverting the Monthyear column into str\n",
    "monthly_year[\"Monthyear\"] = monthly_year[\"Monthyear\"].astype(str)\n",
    "\n",
    "#Set the figure size\n",
    "fig, ax = plt.subplots(figsize=(10, 6))\n",
    "\n",
    "#Automating x-labels\n",
    "fig.autofmt_xdate()\n",
    "\n",
    "#Display the plot\n",
    "plt.plot(monthly_year[\"Monthyear\"], monthly_year[\"Totalsell\"], marker = \"o\", linestyle = \"-\", color = \"b\")\n",
    "\n",
    "#Set the title\n",
    "plt.title(\"Total Purchase by Month\")\n",
    "plt.xlabel(\"MonthYear\")\n",
    "plt.ylabel(\"Total Sell\");"
   ]
  },
  {
   "cell_type": "markdown",
   "id": "a28b849d-fdea-4a1e-8ea1-f78649afe223",
   "metadata": {},
   "source": [
    "**The sales were high between August to November then a sudden drop down in the month of December.**"
   ]
  },
  {
   "cell_type": "markdown",
   "id": "9e2b6956-80ba-48b1-9fe4-a8b9e4cb8d7f",
   "metadata": {},
   "source": [
    "## Plot a bar graph "
   ]
  },
  {
   "cell_type": "code",
   "execution_count": 18,
   "id": "d8c7c9c3-badd-458e-a989-17def1c75413",
   "metadata": {},
   "outputs": [
    {
     "data": {
      "image/png": "[encoded data removed]",
      "text/plain": [
       "<Figure size 1500x400 with 1 Axes>"
      ]
     },
     "metadata": {},
     "output_type": "display_data"
    }
   ],
   "source": [
    "fig, ax = plt.subplots(figsize = (15, 4))\n",
    "\n",
    "plt.bar(monthly_year[\"Monthyear\"], monthly_year[\"Totalsell\"], color = \"b\")\n",
    "\n",
    "\n",
    "#Set the title\n",
    "plt.title(\"Total Purchase by Month\")\n",
    "plt.xlabel(\"MonthYear\")\n",
    "plt.ylabel(\"Total Sell\");"
   ]
  },
  {
   "cell_type": "markdown",
   "id": "5c2dcfca-3d35-4342-b2dc-278833c712b2",
   "metadata": {},
   "source": [
    "## Heatmap overview for Totalsell dependence on quantity"
   ]
  },
  {
   "cell_type": "code",
   "execution_count": 32,
   "id": "6c002055-9bfc-437c-91b3-18517e152bba",
   "metadata": {},
   "outputs": [
    {
     "data": {
      "text/html": [
       "<div>\n",
       "<style scoped>\n",
       "    .dataframe tbody tr th:only-of-type {\n",
       "        vertical-align: middle;\n",
       "    }\n",
       "\n",
       "    .dataframe tbody tr th {\n",
       "        vertical-align: top;\n",
       "    }\n",
       "\n",
       "    .dataframe thead th {\n",
       "        text-align: right;\n",
       "    }\n",
       "</style>\n",
       "<table border=\"1\" class=\"dataframe\">\n",
       "  <thead>\n",
       "    <tr style=\"text-align: right;\">\n",
       "      <th></th>\n",
       "      <th>Quantity</th>\n",
       "      <th>UnitPrice</th>\n",
       "      <th>Totalsell</th>\n",
       "    </tr>\n",
       "  </thead>\n",
       "  <tbody>\n",
       "    <tr>\n",
       "      <th>0</th>\n",
       "      <td>6</td>\n",
       "      <td>2.55</td>\n",
       "      <td>15.30</td>\n",
       "    </tr>\n",
       "    <tr>\n",
       "      <th>1</th>\n",
       "      <td>6</td>\n",
       "      <td>3.39</td>\n",
       "      <td>20.34</td>\n",
       "    </tr>\n",
       "    <tr>\n",
       "      <th>2</th>\n",
       "      <td>8</td>\n",
       "      <td>2.75</td>\n",
       "      <td>22.00</td>\n",
       "    </tr>\n",
       "    <tr>\n",
       "      <th>3</th>\n",
       "      <td>6</td>\n",
       "      <td>3.39</td>\n",
       "      <td>20.34</td>\n",
       "    </tr>\n",
       "    <tr>\n",
       "      <th>4</th>\n",
       "      <td>6</td>\n",
       "      <td>3.39</td>\n",
       "      <td>20.34</td>\n",
       "    </tr>\n",
       "  </tbody>\n",
       "</table>\n",
       "</div>"
      ],
      "text/plain": [
       "   Quantity  UnitPrice  Totalsell\n",
       "0         6       2.55      15.30\n",
       "1         6       3.39      20.34\n",
       "2         8       2.75      22.00\n",
       "3         6       3.39      20.34\n",
       "4         6       3.39      20.34"
      ]
     },
     "execution_count": 32,
     "metadata": {},
     "output_type": "execute_result"
    }
   ],
   "source": [
    "data_retail_updated.head()\n",
    "req_rem = [\"Description\", \"Country\", \"InvoiceDate\", \"Monthyear\", \"CustomerID\"]\n",
    "ht_df = data_retail_updated.drop(columns=req_rem, axis=1)\n",
    "ht_df.head()"
   ]
  },
  {
   "cell_type": "code",
   "execution_count": 33,
   "id": "97aaa74a-ed95-4eab-a5a8-78c7ba0186ec",
   "metadata": {},
   "outputs": [
    {
     "data": {
      "image/png": "[encoded data removed]",
      "text/plain": [
       "<Figure size 1000x500 with 2 Axes>"
      ]
     },
     "metadata": {},
     "output_type": "display_data"
    }
   ],
   "source": [
    "plt.figure(figsize=(10, 5))\n",
    "corr = ht_df.corr()\n",
    "sns.heatmap(corr, cmap=\"BrBG\", annot=True);"
   ]
  },
  {
   "cell_type": "code",
   "execution_count": 34,
   "id": "1d6ddc19-e02b-4c37-b435-f924cf0290a1",
   "metadata": {},
   "outputs": [
    {
     "data": {
      "text/html": [
       "<div>\n",
       "<style scoped>\n",
       "    .dataframe tbody tr th:only-of-type {\n",
       "        vertical-align: middle;\n",
       "    }\n",
       "\n",
       "    .dataframe tbody tr th {\n",
       "        vertical-align: top;\n",
       "    }\n",
       "\n",
       "    .dataframe thead th {\n",
       "        text-align: right;\n",
       "    }\n",
       "</style>\n",
       "<table border=\"1\" class=\"dataframe\">\n",
       "  <thead>\n",
       "    <tr style=\"text-align: right;\">\n",
       "      <th></th>\n",
       "      <th>Quantity</th>\n",
       "      <th>UnitPrice</th>\n",
       "      <th>Totalsell</th>\n",
       "    </tr>\n",
       "  </thead>\n",
       "  <tbody>\n",
       "    <tr>\n",
       "      <th>Quantity</th>\n",
       "      <td>1.000000</td>\n",
       "      <td>-0.001243</td>\n",
       "      <td>0.916132</td>\n",
       "    </tr>\n",
       "    <tr>\n",
       "      <th>UnitPrice</th>\n",
       "      <td>-0.001243</td>\n",
       "      <td>1.000000</td>\n",
       "      <td>-0.129312</td>\n",
       "    </tr>\n",
       "    <tr>\n",
       "      <th>Totalsell</th>\n",
       "      <td>0.916132</td>\n",
       "      <td>-0.129312</td>\n",
       "      <td>1.000000</td>\n",
       "    </tr>\n",
       "  </tbody>\n",
       "</table>\n",
       "</div>"
      ],
      "text/plain": [
       "           Quantity  UnitPrice  Totalsell\n",
       "Quantity   1.000000  -0.001243   0.916132\n",
       "UnitPrice -0.001243   1.000000  -0.129312\n",
       "Totalsell  0.916132  -0.129312   1.000000"
      ]
     },
     "execution_count": 34,
     "metadata": {},
     "output_type": "execute_result"
    }
   ],
   "source": [
    "ht_df.corr()"
   ]
  },
  {
   "cell_type": "markdown",
   "id": "ee57672b-8a35-4153-95e1-f70eacd8140a",
   "metadata": {},
   "source": [
    "## Analyse the sales trends over time"
   ]
  },
  {
   "cell_type": "code",
   "execution_count": 35,
   "id": "f5955ff7-c32f-4c99-92cd-47969d93625d",
   "metadata": {},
   "outputs": [
    {
     "name": "stdout",
     "output_type": "stream",
     "text": [
      "\u001b[1mBusiest Month (in terms of sells):\u001b[0m 11\n",
      "\u001b[1mBusiest Day of the Week (in terms of sales):\u001b[0m Thursday\n"
     ]
    }
   ],
   "source": [
    "# Extract the month from the 'InvoiceDate'\n",
    "data_retail_updated['Month'] = data_retail_updated['InvoiceDate'].dt.month\n",
    "\n",
    "# Extract the day of the week from the 'InvoiceDate'\n",
    "data_retail_updated['DayOfWeek'] = data_retail_updated['InvoiceDate'].dt.day_name()\n",
    "\n",
    "# Calculate total sales for each month\n",
    "monthly_sales = data_retail_updated.groupby('Month')['Totalsell'].sum()\n",
    "\n",
    "# Calculate total sales for each day of the week\n",
    "daily_sales = data_retail_updated.groupby('DayOfWeek')['Totalsell'].sum()\n",
    "\n",
    "# Identify the busiest month\n",
    "busiest_month = monthly_sales.idxmax()\n",
    "\n",
    "# Identify the busiest day of the week\n",
    "busiest_day = daily_sales.idxmax()\n",
    "\n",
    "# Print the results\n",
    "print('\\033[1m' + \"Busiest Month (in terms of sells):\" +'\\033[0m', busiest_month)\n",
    "print('\\033[1m' + \"Busiest Day of the Week (in terms of sales):\" +'\\033[0m', busiest_day)"
   ]
  },
  {
   "cell_type": "markdown",
   "id": "7bf0668d-ab46-4ee1-90a9-eeece981f5ed",
   "metadata": {},
   "source": [
    "## Bar Plot"
   ]
  },
  {
   "cell_type": "code",
   "execution_count": 36,
   "id": "e008f1cd-f702-480d-a87c-21f74fbd1b13",
   "metadata": {},
   "outputs": [
    {
     "data": {
      "image/png": "[encoded data removed]",
      "text/plain": [
       "<Figure size 600x400 with 1 Axes>"
      ]
     },
     "metadata": {},
     "output_type": "display_data"
    }
   ],
   "source": [
    "plt.figure(figsize=(6, 4))\n",
    "plt.bar(daily_sales.index, daily_sales.values)\n",
    "plt.xlabel('Day of Week')\n",
    "plt.ylabel('Total Sell Amount')\n",
    "plt.title('Sales Trend by Day of Week');"
   ]
  },
  {
   "cell_type": "markdown",
   "id": "2805e959-ac2a-49f1-8432-e2cd8fbaa5f3",
   "metadata": {},
   "source": [
    "## Top selling products and countries"
   ]
  },
  {
   "cell_type": "code",
   "execution_count": 37,
   "id": "56024b1c-d3c0-48f4-8cc2-b8295973425c",
   "metadata": {},
   "outputs": [
    {
     "name": "stdout",
     "output_type": "stream",
     "text": [
      "\u001b[1mAmong 3896 items, the 10 most valuable items are:\u001b[0m ['REGENCY CAKESTAND 3 TIER', 'WHITE HANGING HEART T-LIGHT HOLDER', 'JUMBO BAG RED RETROSPOT', 'PARTY BUNTING', 'POSTAGE', 'ASSORTED COLOUR BIRD ORNAMENT', 'RABBIT NIGHT LIGHT', 'CHILLI LIGHTS', \"PAPER CHAIN KIT 50'S CHRISTMAS \", 'PICNIC BASKET WICKER 60 PIECES']\n"
     ]
    }
   ],
   "source": [
    "# Find most valualble Items in the list\n",
    "items_total_sell = data_retail_updated.groupby('Description')['Totalsell'].sum()\n",
    "\n",
    "# Sort the items based on the total sells in ascending order\n",
    "most_valuable_items = items_total_sell.sort_values(ascending=False)\n",
    "\n",
    "# Convert the Series to a DataFrame\n",
    "most_valuable_items_df = pd.DataFrame(most_valuable_items, columns=['Totalsell']).reset_index()\n",
    "\n",
    "# Count the total number of items\n",
    "total_items = data_retail_updated['Description'].nunique()\n",
    "\n",
    "# Print the total number of Items and the top 10 items\n",
    "print('\\033[1m' + f\"Among {total_items} items, the 10 most valuable items are:\" +'\\033[0m', list(most_valuable_items_df['Description'][:10]))"
   ]
  },
  {
   "cell_type": "code",
   "execution_count": 38,
   "id": "cc3f8cfb-b34d-4ca8-b906-b566a586d325",
   "metadata": {},
   "outputs": [
    {
     "name": "stdout",
     "output_type": "stream",
     "text": [
      "\u001b[1mAmong 37 countries, the top 10 selling countries are:\u001b[0m ['United Kingdom', 'Netherlands', 'EIRE', 'Germany', 'France', 'Australia', 'Switzerland', 'Spain', 'Belgium', 'Sweden']\n"
     ]
    }
   ],
   "source": [
    "# Find country with most sells in the list\n",
    "countrywise_sell = data_retail_updated.groupby('Country')['Totalsell'].sum()\n",
    "\n",
    "# Sort countries based on the total sells in ascending order\n",
    "top_selling_country = countrywise_sell.sort_values(ascending=False)\n",
    "\n",
    "# Convert the Series to a DataFrame\n",
    "top_selling_country_df = pd.DataFrame(top_selling_country, columns=['Totalsell']).reset_index()\n",
    "\n",
    "# Count the total countries\n",
    "total_countries = data_retail_updated['Country'].nunique()\n",
    "\n",
    "# Print the total countries and the top 10 countries\n",
    "print('\\033[1m' + f\"Among {total_countries} countries, the top 10 selling countries are:\" +'\\033[0m', list(top_selling_country_df['Country'][:10]))"
   ]
  },
  {
   "cell_type": "markdown",
   "id": "2978fbb7-adb4-4b43-96d4-61a1485de5c5",
   "metadata": {},
   "source": [
    "**In this scenario, having awareness of the most prized goods ('DOTCOM POSTAGE', 'REGENCY CAKESTAND 3 TIER', 'PARTY BUNTING'...) and popular selling regions ('United Kingdom', 'Netherlands', 'EIRE'...) enables us to make informed choices based on data. This allows us to enhance efficiency, stay ahead in the market competition, and make strategic decisions. This data offers essential understandings into customer habits, market shifts, and overall business effectiveness, empowering companies to improve customer service and attain lasting prosperity.**"
   ]
  },
  {
   "cell_type": "markdown",
   "id": "89ec3900-f11c-4623-b002-9d44d2a3fd5b",
   "metadata": {},
   "source": [
    "##  Identify any Outliers or Anomalies in the Dataset"
   ]
  },
  {
   "cell_type": "code",
   "execution_count": 39,
   "id": "d64450b5-1e23-4fc2-92c0-4b27dd711cc2",
   "metadata": {},
   "outputs": [
    {
     "data": {
      "image/png": "[encoded data removed]",
      "text/plain": [
       "<Figure size 640x480 with 1 Axes>"
      ]
     },
     "metadata": {},
     "output_type": "display_data"
    }
   ],
   "source": [
    "# Create a box plot\n",
    "sns.boxplot(data=data_retail_updated, y='Totalsell')\n",
    "\n",
    "# Display the plot\n",
    "plt.show();"
   ]
  },
  {
   "cell_type": "markdown",
   "id": "932df0c6-f2d5-4b08-aca2-82e9ed4733df",
   "metadata": {},
   "source": [
    "## Measuring Z-Score"
   ]
  },
  {
   "cell_type": "code",
   "execution_count": 42,
   "id": "5085f5c6-4230-49c6-a5f5-14f9ba1070fb",
   "metadata": {},
   "outputs": [
    {
     "data": {
      "text/plain": [
       "(252, 10)"
      ]
     },
     "execution_count": 42,
     "metadata": {},
     "output_type": "execute_result"
    }
   ],
   "source": [
    "from scipy import stats\n",
    "\n",
    "# Calculate the Z-Score for the 'Quantity' column\n",
    "z_scores = stats.zscore(data_retail_updated['Totalsell'])\n",
    "\n",
    "# Create a boolean mask to identify outliers (both positive and negative Z-scores)\n",
    "threshold = 3\n",
    "outlier_mask = abs(z_scores) > threshold\n",
    "\n",
    "# Extract outliers from the DataFrame\n",
    "outliers = data_retail_updated[outlier_mask]\n",
    "\n",
    "outliers.shape"
   ]
  },
  {
   "cell_type": "code",
   "execution_count": null,
   "id": "a7db677a-3c14-461d-8b17-3ba6281dec63",
   "metadata": {},
   "outputs": [],
   "source": []
  }
 ],
 "metadata": {
  "kernelspec": {
   "display_name": "Python 3 (ipykernel)",
   "language": "python",
   "name": "python3"
  },
  "language_info": {
   "codemirror_mode": {
    "name": "ipython",
    "version": 3
   },
   "file_extension": ".py",
   "mimetype": "text/x-python",
   "name": "python",
   "nbconvert_exporter": "python",
   "pygments_lexer": "ipython3",
   "version": "3.11.5"
  }
 },
 "nbformat": 4,
 "nbformat_minor": 5
}
